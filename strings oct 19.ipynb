{
 "cells": [
  {
   "cell_type": "code",
   "execution_count": 2,
   "id": "235e3703",
   "metadata": {},
   "outputs": [
    {
     "data": {
      "text/plain": [
       "85"
      ]
     },
     "execution_count": 2,
     "metadata": {},
     "output_type": "execute_result"
    }
   ],
   "source": [
    "\n",
    "x='''Betty Botter bought some butter \n",
    "But she said the butter’s bitter\n",
    "If I put it in my batter, it will make my batter bitter\n",
    "But a bit of better butter will make my batter better\n",
    "So ‘twas better Betty Botter bought a bit of better butter''' #find method\n",
    "x.find('a')"
   ]
  },
  {
   "cell_type": "markdown",
   "id": "0b30c582",
   "metadata": {},
   "source": [
    "# count()\n",
    " The count() method returns the number of times a specified value appears in the string.\n",
    " by  using the count method we get to know the count of the number appearing in the givin string\n",
    " example-\n",
    " "
   ]
  },
  {
   "cell_type": "code",
   "execution_count": 49,
   "id": "18afe395",
   "metadata": {},
   "outputs": [
    {
     "name": "stdout",
     "output_type": "stream",
     "text": [
      "Help on method_descriptor:\n",
      "\n",
      "count(...)\n",
      "    S.count(sub[, start[, end]]) -> int\n",
      "    \n",
      "    Return the number of non-overlapping occurrences of substring sub in\n",
      "    string S[start:end].  Optional arguments start and end are\n",
      "    interpreted as in slice notation.\n",
      "\n"
     ]
    },
    {
     "data": {
      "text/plain": [
       "9"
      ]
     },
     "execution_count": 49,
     "metadata": {},
     "output_type": "execute_result"
    }
   ],
   "source": [
    "help(str.count)\n",
    "x='''Betty Botter bought some butter \n",
    "But she said the butter’s bitter\n",
    "If I put it in my batter, it will make my batter bitter\n",
    "But a bit of better butter will make my batter better\n",
    "So ‘twas better Betty Botter bought a bit of better butter''' #count \n",
    "x.count('a')"
   ]
  },
  {
   "cell_type": "markdown",
   "id": "a394f760",
   "metadata": {},
   "source": [
    "# rfind()\n",
    " rfind is used to find the first occurance of the alphabet which we want to know. in rfind the count of the string starts from left to right but the output shows from the right side\n",
    " example-"
   ]
  },
  {
   "cell_type": "code",
   "execution_count": 50,
   "id": "f7b5b210",
   "metadata": {},
   "outputs": [
    {
     "name": "stdout",
     "output_type": "stream",
     "text": [
      "Help on method_descriptor:\n",
      "\n",
      "rfind(...)\n",
      "    S.rfind(sub[, start[, end]]) -> int\n",
      "    \n",
      "    Return the highest index in S where substring sub is found,\n",
      "    such that sub is contained within S[start:end].  Optional\n",
      "    arguments start and end are interpreted as in slice notation.\n",
      "    \n",
      "    Return -1 on failure.\n",
      "\n"
     ]
    },
    {
     "data": {
      "text/plain": [
       "228"
      ]
     },
     "execution_count": 50,
     "metadata": {},
     "output_type": "execute_result"
    }
   ],
   "source": [
    "help(str.rfind)\n",
    "x='''Betty Botter bought some butter \n",
    "But she said the butter’s bitter\n",
    "If I put it in my batter, it will make my batter bitter\n",
    "But a bit of better butter will make my batter better\n",
    "So ‘twas better Betty Botter bought a bit of better a butter''' #rfind method is used to find the first occurance of the givwn input from the right side\n",
    "x.rfind('a')"
   ]
  },
  {
   "cell_type": "markdown",
   "id": "afec8df5",
   "metadata": {},
   "source": [
    "# index()\n",
    "The Python index() method helps you find the index position of an element or an item in a string of characters or a list of items. It spits out the lowest possible index of the specified element in the list\n",
    "example-"
   ]
  },
  {
   "cell_type": "code",
   "execution_count": 48,
   "id": "5c4b7cea",
   "metadata": {},
   "outputs": [
    {
     "name": "stdout",
     "output_type": "stream",
     "text": [
      "Help on method_descriptor:\n",
      "\n",
      "index(...)\n",
      "    S.index(sub[, start[, end]]) -> int\n",
      "    \n",
      "    Return the lowest index in S where substring sub is found,\n",
      "    such that sub is contained within S[start:end].  Optional\n",
      "    arguments start and end are interpreted as in slice notation.\n",
      "    \n",
      "    Raises ValueError when the substring is not found.\n",
      "\n"
     ]
    },
    {
     "data": {
      "text/plain": [
       "(0, 0)"
      ]
     },
     "execution_count": 48,
     "metadata": {},
     "output_type": "execute_result"
    }
   ],
   "source": [
    "help(str.index)\n",
    "m ='nitin'\n",
    "m.find('n'),m.index('n')"
   ]
  },
  {
   "cell_type": "markdown",
   "id": "7f709320",
   "metadata": {},
   "source": [
    "# rfind()\n",
    "in rfind() if the given input is not there n the input string then the resultant output is -1.where as in rindex() it shows error.the below example shows the rfind()"
   ]
  },
  {
   "cell_type": "code",
   "execution_count": 13,
   "id": "157b5950",
   "metadata": {},
   "outputs": [
    {
     "data": {
      "text/plain": [
       "-1"
      ]
     },
     "execution_count": 13,
     "metadata": {},
     "output_type": "execute_result"
    }
   ],
   "source": [
    "x='''Betty Botter bought some butter \n",
    "But she said the butter’s bitter\n",
    "If I put it in my batter, it will make my batter bitter\n",
    "But a bit of better butter will make my batter better\n",
    "So ‘twas better Betty Botter bought a bit of better butter'''#z is not present ,thus it gives o/p as -1 in rfind method\n",
    "x.rfind('z')"
   ]
  },
  {
   "cell_type": "code",
   "execution_count": 51,
   "id": "dfd4dd13",
   "metadata": {},
   "outputs": [
    {
     "name": "stdout",
     "output_type": "stream",
     "text": [
      "Help on method_descriptor:\n",
      "\n",
      "rindex(...)\n",
      "    S.rindex(sub[, start[, end]]) -> int\n",
      "    \n",
      "    Return the highest index in S where substring sub is found,\n",
      "    such that sub is contained within S[start:end].  Optional\n",
      "    arguments start and end are interpreted as in slice notation.\n",
      "    \n",
      "    Raises ValueError when the substring is not found.\n",
      "\n"
     ]
    },
    {
     "ename": "ValueError",
     "evalue": "substring not found",
     "output_type": "error",
     "traceback": [
      "\u001b[1;31m---------------------------------------------------------------------------\u001b[0m",
      "\u001b[1;31mValueError\u001b[0m                                Traceback (most recent call last)",
      "Cell \u001b[1;32mIn[51], line 7\u001b[0m\n\u001b[0;32m      1\u001b[0m help(\u001b[38;5;28mstr\u001b[39m\u001b[38;5;241m.\u001b[39mrindex)\n\u001b[0;32m      2\u001b[0m x\u001b[38;5;241m=\u001b[39m\u001b[38;5;124m'''\u001b[39m\u001b[38;5;124mBetty Botter bought some butter \u001b[39m\n\u001b[0;32m      3\u001b[0m \u001b[38;5;124mBut she said the butter’s bitter\u001b[39m\n\u001b[0;32m      4\u001b[0m \u001b[38;5;124mIf I put it in my batter, it will make my batter bitter\u001b[39m\n\u001b[0;32m      5\u001b[0m \u001b[38;5;124mBut a bit of better butter will make my batter better\u001b[39m\n\u001b[0;32m      6\u001b[0m \u001b[38;5;124mSo ‘twas better Betty Botter bought a bit of better butter\u001b[39m\u001b[38;5;124m'''\u001b[39m\u001b[38;5;66;03m#z is not present in given string so index metod gives o/p as error \u001b[39;00m\n\u001b[1;32m----> 7\u001b[0m x\u001b[38;5;241m.\u001b[39mindex(\u001b[38;5;124m'\u001b[39m\u001b[38;5;124mz\u001b[39m\u001b[38;5;124m'\u001b[39m)\n",
      "\u001b[1;31mValueError\u001b[0m: substring not found"
     ]
    }
   ],
   "source": [
    "help(str.rindex)\n",
    "x='''Betty Botter bought some butter \n",
    "But she said the butter’s bitter\n",
    "If I put it in my batter, it will make my batter bitter\n",
    "But a bit of better butter will make my batter better\n",
    "So ‘twas better Betty Botter bought a bit of better butter'''#z is not present in given string so index metod gives o/p as error \n",
    "x.index('z') #this is the difference b/w the rfind() and rindex()"
   ]
  },
  {
   "cell_type": "markdown",
   "id": "127bb485",
   "metadata": {},
   "source": [
    "\n",
    "# replace()\n",
    "here replace() is used to replace the upper case to lower case.any letter we can change which are present in the given string.\n",
    "the below example shos the replace()"
   ]
  },
  {
   "cell_type": "code",
   "execution_count": 47,
   "id": "a49e2dda",
   "metadata": {},
   "outputs": [
    {
     "name": "stdout",
     "output_type": "stream",
     "text": [
      "Help on method_descriptor:\n",
      "\n",
      "replace(self, old, new, count=-1, /)\n",
      "    Return a copy with all occurrences of substring old replaced by new.\n",
      "    \n",
      "      count\n",
      "        Maximum number of occurrences to replace.\n",
      "        -1 (the default value) means replace all occurrences.\n",
      "    \n",
      "    If the optional argument count is given, only the first count occurrences are\n",
      "    replaced.\n",
      "\n"
     ]
    },
    {
     "data": {
      "text/plain": [
       "'NitiN'"
      ]
     },
     "execution_count": 47,
     "metadata": {},
     "output_type": "execute_result"
    }
   ],
   "source": [
    "help(str.replace)\n",
    "m ='nitin'\n",
    "m.replace('n','N')"
   ]
  },
  {
   "cell_type": "code",
   "execution_count": 21,
   "id": "f00e470d",
   "metadata": {},
   "outputs": [
    {
     "data": {
      "text/plain": [
       "'Nitin'"
      ]
     },
     "execution_count": 21,
     "metadata": {},
     "output_type": "execute_result"
    }
   ],
   "source": [
    "# we can also selectively change the upper case letters to lower case by giving order sequence of the letter in replace() the below example shows the replace()\n",
    "m ='nitin'\n",
    "m.replace('n','N',1)\n"
   ]
  },
  {
   "cell_type": "markdown",
   "id": "173a9a44",
   "metadata": {},
   "source": []
  },
  {
   "cell_type": "code",
   "execution_count": 42,
   "id": "2e8193bf",
   "metadata": {},
   "outputs": [
    {
     "name": "stdout",
     "output_type": "stream",
     "text": [
      "Help on method_descriptor:\n",
      "\n",
      "rpartition(self, sep, /)\n",
      "    Partition the string into three parts using the given separator.\n",
      "    \n",
      "    This will search for the separator in the string, starting at the end. If\n",
      "    the separator is found, returns a 3-tuple containing the part before the\n",
      "    separator, the separator itself, and the part after it.\n",
      "    \n",
      "    If the separator is not found, returns a 3-tuple containing two empty strings\n",
      "    and the original string.\n",
      "\n"
     ]
    }
   ],
   "source": [
    "help(str.rpartition)"
   ]
  },
  {
   "cell_type": "code",
   "execution_count": 41,
   "id": "a66165a9",
   "metadata": {},
   "outputs": [
    {
     "name": "stdout",
     "output_type": "stream",
     "text": [
      "Help on method_descriptor:\n",
      "\n",
      "partition(self, sep, /)\n",
      "    Partition the string into three parts using the given separator.\n",
      "    \n",
      "    This will search for the separator in the string.  If the separator is found,\n",
      "    returns a 3-tuple containing the part before the separator, the separator\n",
      "    itself, and the part after it.\n",
      "    \n",
      "    If the separator is not found, returns a 3-tuple containing the original string\n",
      "    and two empty strings.\n",
      "\n"
     ]
    }
   ],
   "source": [
    "\n",
    "help(str.partition)"
   ]
  },
  {
   "cell_type": "markdown",
   "id": "79630389",
   "metadata": {},
   "source": [
    "# partition()\n",
    "The partition() method searches for a specified string, and splits the string into a tuple containing three elements. The first element contains the part before the specified string. The second element contains the specified string. The third element contains the part after the string.\n",
    "# rpartition()  \n",
    "The rpartition() method searches for the last occurrence of a specified string, and splits the string into a tuple containing three elements. The first element contains the part before the specified string. The second element contains the specified string. The third element contains the part after the string."
   ]
  },
  {
   "cell_type": "markdown",
   "id": "dfb9e314",
   "metadata": {},
   "source": [
    "the  below examples shows the partition() and rpartition()"
   ]
  },
  {
   "cell_type": "code",
   "execution_count": null,
   "id": "9a9820ab",
   "metadata": {
    "collapsed": true
   },
   "outputs": [],
   "source": []
  },
  {
   "cell_type": "code",
   "execution_count": 45,
   "id": "77668d9e",
   "metadata": {},
   "outputs": [
    {
     "data": {
      "text/plain": [
       "('Betty Botter bought some butter \\nBut she s',\n",
       " 'a',\n",
       " 'id the butter’s bitter\\nIf I put it in my batter, it will make my batter bitter\\nBut a bit of better butter will make my batter betterSo ‘twas better Betty Botter bought a bit of better butter')"
      ]
     },
     "execution_count": 45,
     "metadata": {},
     "output_type": "execute_result"
    }
   ],
   "source": [
    "x.partition('a')"
   ]
  },
  {
   "cell_type": "code",
   "execution_count": 12,
   "id": "f180a6f3",
   "metadata": {},
   "outputs": [
    {
     "data": {
      "text/plain": [
       "('malayal', 'a', 'm')"
      ]
     },
     "execution_count": 12,
     "metadata": {},
     "output_type": "execute_result"
    }
   ],
   "source": [
    "m.rpartition('a')"
   ]
  },
  {
   "cell_type": "code",
   "execution_count": 44,
   "id": "c2eb90a0",
   "metadata": {},
   "outputs": [
    {
     "data": {
      "text/plain": [
       "('n', 'i', 'tin')"
      ]
     },
     "execution_count": 44,
     "metadata": {},
     "output_type": "execute_result"
    }
   ],
   "source": [
    "m= 'nitin'\n",
    "m.partition('i')"
   ]
  },
  {
   "cell_type": "markdown",
   "id": "290f76cd",
   "metadata": {},
   "source": [
    "# split()\n",
    "The split() method splits a string into a list. You can specify the separator, default separator is any whitespace. Note: When maxsplit is specified, the list will contain the specified number of elements plus one. if the given element is not there in string then the output comes as it is as string input\n",
    "the below shows the examples of split()."
   ]
  },
  {
   "cell_type": "code",
   "execution_count": 52,
   "id": "efd69b84",
   "metadata": {},
   "outputs": [
    {
     "name": "stdout",
     "output_type": "stream",
     "text": [
      "Help on method_descriptor:\n",
      "\n",
      "split(self, /, sep=None, maxsplit=-1)\n",
      "    Return a list of the substrings in the string, using sep as the separator string.\n",
      "    \n",
      "      sep\n",
      "        The separator used to split the string.\n",
      "    \n",
      "        When set to None (the default value), will split on any whitespace\n",
      "        character (including \\\\n \\\\r \\\\t \\\\f and spaces) and will discard\n",
      "        empty strings from the result.\n",
      "      maxsplit\n",
      "        Maximum number of splits (starting from the left).\n",
      "        -1 (the default value) means no limit.\n",
      "    \n",
      "    Note, str.split() is mainly useful for data that has been intentionally\n",
      "    delimited.  With natural text that includes punctuation, consider using\n",
      "    the regular expression module.\n",
      "\n"
     ]
    },
    {
     "data": {
      "text/plain": [
       "['n', 't', 'n']"
      ]
     },
     "execution_count": 52,
     "metadata": {},
     "output_type": "execute_result"
    }
   ],
   "source": [
    "help(str.split)\n",
    "m='nitin'\n",
    "m.split('i')"
   ]
  },
  {
   "cell_type": "code",
   "execution_count": 24,
   "id": "a650048b",
   "metadata": {},
   "outputs": [
    {
     "data": {
      "text/plain": [
       "['nitin']"
      ]
     },
     "execution_count": 24,
     "metadata": {},
     "output_type": "execute_result"
    }
   ],
   "source": [
    "m.split('g')"
   ]
  },
  {
   "cell_type": "code",
   "execution_count": null,
   "id": "20106f2e",
   "metadata": {},
   "outputs": [],
   "source": []
  },
  {
   "cell_type": "markdown",
   "id": "c3fa0f93",
   "metadata": {},
   "source": [
    "if we parenting the output empty strings then the out will be the parental string."
   ]
  },
  {
   "cell_type": "code",
   "execution_count": 25,
   "id": "8e124f1e",
   "metadata": {},
   "outputs": [
    {
     "data": {
      "text/plain": [
       "'nitin'"
      ]
     },
     "execution_count": 25,
     "metadata": {},
     "output_type": "execute_result"
    }
   ],
   "source": [
    "m.partition('g')[0]+m.partition('g')[1]+m.partition('g')[2] #we r partitioning the out put empty strings,so the output be the parent string"
   ]
  },
  {
   "cell_type": "markdown",
   "id": "af11ff4d",
   "metadata": {},
   "source": [
    "here, partition  reads from left to right from given input element and splits.if there is no element in front order then it shows as empty element, rpartition also similar to partition(),but output shows from right side.\n",
    "the below shows the examples"
   ]
  },
  {
   "cell_type": "code",
   "execution_count": 26,
   "id": "fa5cf859",
   "metadata": {},
   "outputs": [
    {
     "data": {
      "text/plain": [
       "('nitin', '', '')"
      ]
     },
     "execution_count": 26,
     "metadata": {},
     "output_type": "execute_result"
    }
   ],
   "source": [
    "m.partition('m')"
   ]
  },
  {
   "cell_type": "code",
   "execution_count": 27,
   "id": "d8b3df87",
   "metadata": {},
   "outputs": [
    {
     "data": {
      "text/plain": [
       "('', '', 'nitin')"
      ]
     },
     "execution_count": 27,
     "metadata": {},
     "output_type": "execute_result"
    }
   ],
   "source": [
    "m.rpartition('m')"
   ]
  },
  {
   "cell_type": "code",
   "execution_count": 60,
   "id": "645565c1",
   "metadata": {},
   "outputs": [
    {
     "data": {
      "text/plain": [
       "['Betty Botter bought some butter ',\n",
       " 'But she said the butter’s bitter',\n",
       " 'If I put it in my batter, it will make my batter bitter',\n",
       " 'But a bit of better butter will make my batter betterSo ‘twas better Betty Botter bought a bit of better butter']"
      ]
     },
     "execution_count": 60,
     "metadata": {},
     "output_type": "execute_result"
    }
   ],
   "source": [
    "x.split('\\n') # here \\n is used to get the out put as line by line "
   ]
  },
  {
   "cell_type": "markdown",
   "id": "36deb23f",
   "metadata": {},
   "source": []
  },
  {
   "cell_type": "markdown",
   "id": "7867b86f",
   "metadata": {},
   "source": [
    "\n"
   ]
  },
  {
   "cell_type": "code",
   "execution_count": null,
   "id": "fd638967",
   "metadata": {},
   "outputs": [],
   "source": [
    "\n"
   ]
  },
  {
   "cell_type": "code",
   "execution_count": null,
   "id": "23bbce15",
   "metadata": {},
   "outputs": [],
   "source": []
  },
  {
   "cell_type": "code",
   "execution_count": null,
   "id": "d89e743a",
   "metadata": {},
   "outputs": [],
   "source": []
  },
  {
   "cell_type": "code",
   "execution_count": null,
   "id": "5deca472",
   "metadata": {},
   "outputs": [],
   "source": []
  },
  {
   "cell_type": "code",
   "execution_count": null,
   "id": "31613097",
   "metadata": {},
   "outputs": [],
   "source": []
  }
 ],
 "metadata": {
  "kernelspec": {
   "display_name": "Python 3 (ipykernel)",
   "language": "python",
   "name": "python3"
  },
  "language_info": {
   "codemirror_mode": {
    "name": "ipython",
    "version": 3
   },
   "file_extension": ".py",
   "mimetype": "text/x-python",
   "name": "python",
   "nbconvert_exporter": "python",
   "pygments_lexer": "ipython3",
   "version": "3.11.5"
  }
 },
 "nbformat": 4,
 "nbformat_minor": 5
}
